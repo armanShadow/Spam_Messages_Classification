{
  "nbformat": 4,
  "nbformat_minor": 0,
  "metadata": {
    "colab": {
      "name": "GPU_proj_tst4.ipynb",
      "provenance": [],
      "collapsed_sections": [],
      "authorship_tag": "ABX9TyM4NJLJVHwFceaMXA/YSsp6"
    },
    "kernelspec": {
      "name": "python3",
      "display_name": "Python 3"
    },
    "language_info": {
      "name": "python"
    },
    "accelerator": "GPU"
  },
  "cells": [
    {
      "cell_type": "code",
      "source": [
        "! python"
      ],
      "metadata": {
        "colab": {
          "base_uri": "https://localhost:8080/"
        },
        "id": "Pglq1lbpAXL8",
        "outputId": "c1c9bf71-8131-49df-fb02-88ba85fb83bf"
      },
      "execution_count": 11,
      "outputs": [
        {
          "output_type": "stream",
          "name": "stdout",
          "text": [
            "Python 3.7.12 (default, Sep 10 2021, 00:21:48) \n",
            "[GCC 7.5.0] on linux\n",
            "Type \"help\", \"copyright\", \"credits\" or \"license\" for more information.\n",
            ">>> import nltk\n",
            ">>> nltk.download('stopwords')\n",
            "[nltk_data] Downloading package stopwords to /root/nltk_data...\n",
            "[nltk_data]   Unzipping corpora/stopwords.zip.\n",
            "True\n",
            ">>> \n",
            "\n",
            "KeyboardInterrupt\n",
            ">>> \n",
            "KeyboardInterrupt\n",
            ">>> ^C\n"
          ]
        }
      ]
    },
    {
      "cell_type": "code",
      "source": [
        "import pandas as pd\n",
        "import numpy as np\n",
        "import nltk\n",
        "import tensorflow as tf\n",
        "import matplotlib.pyplot as plt"
      ],
      "metadata": {
        "id": "kH69jX8A9vQ1"
      },
      "execution_count": 2,
      "outputs": []
    },
    {
      "cell_type": "code",
      "source": [
        "data = pd.read_csv('./data/spam.csv', encoding = 'latin-1').iloc[:, :2].values\n",
        "data.size\n",
        "data[:10]"
      ],
      "metadata": {
        "colab": {
          "base_uri": "https://localhost:8080/"
        },
        "id": "Wb-v3oHV9ymi",
        "outputId": "319efbfd-03c0-4f14-d6fc-8d64140327a4"
      },
      "execution_count": 6,
      "outputs": [
        {
          "output_type": "execute_result",
          "data": {
            "text/plain": [
              "array([['ham',\n",
              "        'Go until jurong point, crazy.. Available only in bugis n great world la e buffet... Cine there got amore wat...'],\n",
              "       ['ham', 'Ok lar... Joking wif u oni...'],\n",
              "       ['spam',\n",
              "        \"Free entry in 2 a wkly comp to win FA Cup final tkts 21st May 2005. Text FA to 87121 to receive entry question(std txt rate)T&C's apply 08452810075over18's\"],\n",
              "       ['ham', 'U dun say so early hor... U c already then say...'],\n",
              "       ['ham',\n",
              "        \"Nah I don't think he goes to usf, he lives around here though\"],\n",
              "       ['spam',\n",
              "        \"FreeMsg Hey there darling it's been 3 week's now and no word back! I'd like some fun you up for it still? Tb ok! XxX std chgs to send, å£1.50 to rcv\"],\n",
              "       ['ham',\n",
              "        'Even my brother is not like to speak with me. They treat me like aids patent.'],\n",
              "       ['ham',\n",
              "        \"As per your request 'Melle Melle (Oru Minnaminunginte Nurungu Vettam)' has been set as your callertune for all Callers. Press *9 to copy your friends Callertune\"],\n",
              "       ['spam',\n",
              "        'WINNER!! As a valued network customer you have been selected to receivea å£900 prize reward! To claim call 09061701461. Claim code KL341. Valid 12 hours only.'],\n",
              "       ['spam',\n",
              "        'Had your mobile 11 months or more? U R entitled to Update to the latest colour mobiles with camera for Free! Call The Mobile Update Co FREE on 08002986030']],\n",
              "      dtype=object)"
            ]
          },
          "metadata": {},
          "execution_count": 6
        }
      ]
    },
    {
      "cell_type": "code",
      "source": [
        "from sklearn.preprocessing import LabelEncoder\n",
        "le=LabelEncoder()\n",
        "target=le.fit_transform(data[:,0])\n",
        "# le.classes_\n",
        "# target[:10]"
      ],
      "metadata": {
        "id": "NZ3cSTqi97tG"
      },
      "execution_count": 7,
      "outputs": []
    },
    {
      "cell_type": "code",
      "source": [
        "unique, count = np.unique(target, return_counts=True)\n",
        "plt.xticks(unique, unique)\n",
        "plt.bar(unique, count, color=['green','blue'])"
      ],
      "metadata": {
        "colab": {
          "base_uri": "https://localhost:8080/",
          "height": 283
        },
        "id": "C-JrCFLi9_oE",
        "outputId": "daf07507-d21c-478f-b9cc-c1116a65245d"
      },
      "execution_count": 8,
      "outputs": [
        {
          "output_type": "execute_result",
          "data": {
            "text/plain": [
              "<BarContainer object of 2 artists>"
            ]
          },
          "metadata": {},
          "execution_count": 8
        },
        {
          "output_type": "display_data",
          "data": {
            "image/png": "[encoded data removed]",
            "text/plain": [
              "<Figure size 432x288 with 1 Axes>"
            ]
          },
          "metadata": {
            "needs_background": "light"
          }
        }
      ]
    },
    {
      "cell_type": "code",
      "source": [
        "print('sentence quantity: {} ,train sample: {} ,test sample: {}'.format(len(target),len(target)*0.8,len(target)*0.2))"
      ],
      "metadata": {
        "colab": {
          "base_uri": "https://localhost:8080/"
        },
        "id": "yhAswOqD-KQP",
        "outputId": "5277ec73-8c16-4326-bddd-85e4f30e91f5"
      },
      "execution_count": 9,
      "outputs": [
        {
          "output_type": "stream",
          "name": "stdout",
          "text": [
            "sentence quantity: 5572 ,train sample: 4457.6 ,test sample: 1114.4\n"
          ]
        }
      ]
    },
    {
      "cell_type": "code",
      "source": [
        "from nltk.corpus import stopwords\n",
        "Stopwords = stopwords.words('english')\n",
        "from nltk.stem import PorterStemmer\n",
        "stemmer = PorterStemmer()\n",
        "import re\n",
        "email=data[:,1]\n",
        "email=[re.sub(\"[^a-zA-Z]\",\" \", e) for e in email]\n",
        "strings=np.char.split(np.char.lower(email))\n",
        "words = [[stemmer.stem(word) for word in string if word not in set(Stopwords)] for string in strings ]\n",
        "sentence = [' '.join(row) for row in words]\n",
        "sentence[:5]"
      ],
      "metadata": {
        "colab": {
          "base_uri": "https://localhost:8080/"
        },
        "id": "5mGNiKgN-Luu",
        "outputId": "6bc9f007-b09c-47cc-8df8-c4f1c38e4e71"
      },
      "execution_count": 12,
      "outputs": [
        {
          "output_type": "execute_result",
          "data": {
            "text/plain": [
              "['go jurong point crazi avail bugi n great world la e buffet cine got amor wat',\n",
              " 'ok lar joke wif u oni',\n",
              " 'free entri wkli comp win fa cup final tkt st may text fa receiv entri question std txt rate c appli',\n",
              " 'u dun say earli hor u c alreadi say',\n",
              " 'nah think goe usf live around though']"
            ]
          },
          "metadata": {},
          "execution_count": 12
        }
      ]
    },
    {
      "cell_type": "code",
      "source": [
        "from sklearn.model_selection import train_test_split\n",
        "from sklearn.feature_extraction.text import CountVectorizer\n",
        "from sklearn.feature_extraction.text import TfidfTransformer\n",
        "cv = CountVectorizer()\n",
        "tfidf = TfidfTransformer()\n",
        "X = sentence\n",
        "y = tf.keras.utils.to_categorical(target,2)\n",
        "X = cv.fit_transform(X).toarray()\n",
        "# X[0,:20]"
      ],
      "metadata": {
        "id": "-rnCIzjt-gWv"
      },
      "execution_count": 13,
      "outputs": []
    },
    {
      "cell_type": "code",
      "source": [
        "X = tfidf.fit_transform(X).toarray()\n",
        "# X[0,:20]"
      ],
      "metadata": {
        "id": "0StxeQeSA6EK"
      },
      "execution_count": 14,
      "outputs": []
    },
    {
      "cell_type": "code",
      "source": [
        "X_train, X_test, y_train, y_test = train_test_split(X, y, test_size=0.20, random_state=12)"
      ],
      "metadata": {
        "id": "Rstwy_2pA-9O"
      },
      "execution_count": 15,
      "outputs": []
    },
    {
      "cell_type": "code",
      "source": [
        "print('train vs test:{} ,{}'.format(X_train.shape[0], X_test.shape[0]))"
      ],
      "metadata": {
        "colab": {
          "base_uri": "https://localhost:8080/"
        },
        "id": "8eV7LHYRBEwo",
        "outputId": "eb335f25-492e-41bb-9e66-ef566a7d4a9d"
      },
      "execution_count": 16,
      "outputs": [
        {
          "output_type": "stream",
          "name": "stdout",
          "text": [
            "train vs test:4457 ,1115\n"
          ]
        }
      ]
    },
    {
      "cell_type": "code",
      "source": [
        "model = tf.keras.Sequential([\n",
        "        tf.keras.layers.Dense(1024, activation='elu',input_dim=X_train.shape[1],kernel_initializer='normal'),\n",
        "        tf.keras.layers.Dense(256, activation='elu',kernel_initializer='normal'),\n",
        "        tf.keras.layers.Dense(64, activation='elu',kernel_initializer='normal'),\n",
        "        tf.keras.layers.Dense(16, activation='elu',kernel_initializer='normal'),\n",
        "        tf.keras.layers.Dense(units = 2, activation='softmax')\n",
        "    ])\n",
        "model.compile(optimizer='rmsprop', loss='categorical_crossentropy',metrics=['accuracy'])\n",
        "model.fit(X_train,y_train,epochs=20,batch_size=60)"
      ],
      "metadata": {
        "colab": {
          "base_uri": "https://localhost:8080/"
        },
        "id": "1nka4F6fBINO",
        "outputId": "d3f9a808-869c-42ef-c3ef-60b05cf74fc5"
      },
      "execution_count": 19,
      "outputs": [
        {
          "output_type": "stream",
          "name": "stdout",
          "text": [
            "Epoch 1/20\n",
            "75/75 [==============================] - 2s 12ms/step - loss: 0.1158 - accuracy: 0.9594\n",
            "Epoch 2/20\n",
            "75/75 [==============================] - 1s 11ms/step - loss: 0.0248 - accuracy: 0.9924\n",
            "Epoch 3/20\n",
            "75/75 [==============================] - 1s 12ms/step - loss: 0.0098 - accuracy: 0.9980\n",
            "Epoch 4/20\n",
            "75/75 [==============================] - 1s 12ms/step - loss: 0.0075 - accuracy: 0.9982\n",
            "Epoch 5/20\n",
            "75/75 [==============================] - 1s 11ms/step - loss: 0.0034 - accuracy: 0.9991\n",
            "Epoch 6/20\n",
            "75/75 [==============================] - 1s 12ms/step - loss: 0.0012 - accuracy: 0.9998\n",
            "Epoch 7/20\n",
            "75/75 [==============================] - 1s 12ms/step - loss: 6.2959e-04 - accuracy: 0.9996\n",
            "Epoch 8/20\n",
            "75/75 [==============================] - 1s 11ms/step - loss: 4.1051e-06 - accuracy: 1.0000\n",
            "Epoch 9/20\n",
            "75/75 [==============================] - 1s 11ms/step - loss: 5.2557e-08 - accuracy: 1.0000\n",
            "Epoch 10/20\n",
            "75/75 [==============================] - 1s 12ms/step - loss: 1.3346e-08 - accuracy: 1.0000\n",
            "Epoch 11/20\n",
            "75/75 [==============================] - 1s 11ms/step - loss: 6.6331e-09 - accuracy: 1.0000\n",
            "Epoch 12/20\n",
            "75/75 [==============================] - 1s 12ms/step - loss: 2.4072e-09 - accuracy: 1.0000\n",
            "Epoch 13/20\n",
            "75/75 [==============================] - 1s 12ms/step - loss: 1.4978e-09 - accuracy: 1.0000\n",
            "Epoch 14/20\n",
            "75/75 [==============================] - 1s 12ms/step - loss: 9.3613e-10 - accuracy: 1.0000\n",
            "Epoch 15/20\n",
            "75/75 [==============================] - 1s 12ms/step - loss: 6.9541e-10 - accuracy: 1.0000\n",
            "Epoch 16/20\n",
            "75/75 [==============================] - 1s 11ms/step - loss: 5.3493e-10 - accuracy: 1.0000\n",
            "Epoch 17/20\n",
            "75/75 [==============================] - 1s 12ms/step - loss: 4.5469e-10 - accuracy: 1.0000\n",
            "Epoch 18/20\n",
            "75/75 [==============================] - 1s 11ms/step - loss: 4.0120e-10 - accuracy: 1.0000\n",
            "Epoch 19/20\n",
            "75/75 [==============================] - 1s 12ms/step - loss: 3.7445e-10 - accuracy: 1.0000\n",
            "Epoch 20/20\n",
            "75/75 [==============================] - 1s 12ms/step - loss: 3.4770e-10 - accuracy: 1.0000\n"
          ]
        },
        {
          "output_type": "execute_result",
          "data": {
            "text/plain": [
              "<keras.callbacks.History at 0x7fb3c10b4d50>"
            ]
          },
          "metadata": {},
          "execution_count": 19
        }
      ]
    },
    {
      "cell_type": "code",
      "source": [
        "y_pred=model.predict(X_test)\n",
        "Y_pred=np.argmax(y_pred,axis=1)\n",
        "Y_test=np.argmax(y_test,axis=1)\n",
        "# Y_pred[:10]"
      ],
      "metadata": {
        "id": "5tUrH-MmBNYx"
      },
      "execution_count": 34,
      "outputs": []
    },
    {
      "cell_type": "code",
      "source": [
        "from sklearn.metrics import accuracy_score,confusion_matrix\n",
        "ac = accuracy_score(Y_pred,Y_test)\n",
        "cm = confusion_matrix(Y_pred,Y_test)"
      ],
      "metadata": {
        "id": "lVtikoz9BOPn"
      },
      "execution_count": 28,
      "outputs": []
    },
    {
      "cell_type": "code",
      "source": [
        "print(ac)\n",
        "print(cm)"
      ],
      "metadata": {
        "colab": {
          "base_uri": "https://localhost:8080/"
        },
        "id": "ezv3y7JGDl1U",
        "outputId": "b2bbc1ad-6f62-4164-b706-6194304fe58d"
      },
      "execution_count": 29,
      "outputs": [
        {
          "output_type": "stream",
          "name": "stdout",
          "text": [
            "0.9713004484304932\n",
            "[[962  29]\n",
            " [  3 121]]\n"
          ]
        }
      ]
    }
  ]
}